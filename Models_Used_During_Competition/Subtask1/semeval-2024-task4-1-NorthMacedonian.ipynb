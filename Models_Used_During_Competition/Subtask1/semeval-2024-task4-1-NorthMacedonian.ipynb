{
 "cells": [
  {
   "cell_type": "code",
   "execution_count": null,
   "metadata": {
    "execution": {
     "iopub.execute_input": "2024-01-12T10:27:14.448637Z",
     "iopub.status.busy": "2024-01-12T10:27:14.447762Z",
     "iopub.status.idle": "2024-01-12T10:27:33.631891Z",
     "shell.execute_reply": "2024-01-12T10:27:33.631041Z",
     "shell.execute_reply.started": "2024-01-12T10:27:14.448599Z"
    }
   },
   "outputs": [],
   "source": [
    "import torch.nn as nn\n",
    "import torch.nn.functional as F\n",
    "from torch.utils.data import DataLoader, Dataset\n",
    "import PIL\n",
    "import torchvision\n",
    "import numpy\n",
    "import pandas\n",
    "import torch \n",
    "import torch.optim as optim\n",
    "import gc\n",
    "from torch.optim.lr_scheduler import StepLR\n",
    "import cv2\n",
    "import os\n",
    "import json\n",
    "import numpy as np\n",
    "from transformers import BertModel, BertTokenizer\n",
    "import torch\n",
    "import matplotlib.pyplot as plt\n",
    "from transformers import AutoTokenizer, AutoModel\n",
    "from transformers import T5EncoderModel\n",
    "from transformers import GPT2Tokenizer, GPT2Model\n",
    "from transformers import ViTImageProcessor, ViTModel\n",
    "from PIL import Image\n",
    "import requests\n",
    "from tqdm import tqdm\n",
    "import re \n",
    "import string \n",
    "from sklearn.svm import LinearSVC\n",
    "from sklearn.preprocessing import StandardScaler"
   ]
  },
  {
   "cell_type": "code",
   "execution_count": null,
   "metadata": {},
   "outputs": [],
   "source": []
  },
  {
   "cell_type": "code",
   "execution_count": null,
   "metadata": {},
   "outputs": [],
   "source": [
    "torch.cuda.is_available()"
   ]
  },
  {
   "cell_type": "code",
   "execution_count": null,
   "metadata": {
    "execution": {
     "iopub.execute_input": "2024-01-12T10:27:33.635034Z",
     "iopub.status.busy": "2024-01-12T10:27:33.633874Z",
     "iopub.status.idle": "2024-01-12T10:27:33.643307Z",
     "shell.execute_reply": "2024-01-12T10:27:33.642244Z",
     "shell.execute_reply.started": "2024-01-12T10:27:33.634995Z"
    }
   },
   "outputs": [],
   "source": [
    "PATH_DATASETS = \".\"\n",
    "PATH_JSON_TRAIN = os.path.join(PATH_DATASETS, \"annotations/data/subtask1/train.json\") \n",
    "PATH_JSON_VAL = os.path.join(PATH_DATASETS, \"annotations/data/subtask1/validation.json\") \n",
    "PATH_JSON_DEV = os.path.join(PATH_DATASETS, \"annotations/data/subtask1/dev_subtask1_en.json\") \n",
    "\n",
    "\n",
    "PATH_JSON_TEST = \"./test_data/north_macedonian/mk_subtask1_test_unlabeled.json\"\n",
    "\n",
    "PATH_SAVE_MODEL = \"subtask1_models\"\n",
    "PATH_SAVE_SUBMISSION = \"subtask1_submissions\"\n",
    "\n",
    "os.makedirs(PATH_SAVE_MODEL, exist_ok=True)\n",
    "os.makedirs(PATH_SAVE_SUBMISSION, exist_ok=True)\n",
    "\n",
    "BATCH_SIZE = 16\n",
    "\n",
    "EPOCHS_FULL = 3\n",
    "LR_FULL = 1e-5\n",
    "\n",
    "EPOCHS_FC = 3\n",
    "LR_FC = 3e-6\n",
    "\n",
    "TRAIN_ALL = True"
   ]
  },
  {
   "cell_type": "code",
   "execution_count": null,
   "metadata": {
    "execution": {
     "iopub.execute_input": "2024-01-12T10:27:33.645114Z",
     "iopub.status.busy": "2024-01-12T10:27:33.644706Z",
     "iopub.status.idle": "2024-01-12T10:27:33.760020Z",
     "shell.execute_reply": "2024-01-12T10:27:33.758834Z",
     "shell.execute_reply.started": "2024-01-12T10:27:33.645077Z"
    },
    "scrolled": true
   },
   "outputs": [],
   "source": [
    "data = json.load(open(PATH_JSON_TRAIN,\"r\",encoding='utf-8'))\n",
    "\n",
    "print(data[0])"
   ]
  },
  {
   "cell_type": "code",
   "execution_count": null,
   "metadata": {
    "execution": {
     "iopub.execute_input": "2024-01-12T10:27:33.763611Z",
     "iopub.status.busy": "2024-01-12T10:27:33.762611Z",
     "iopub.status.idle": "2024-01-12T10:27:33.768327Z",
     "shell.execute_reply": "2024-01-12T10:27:33.767242Z",
     "shell.execute_reply.started": "2024-01-12T10:27:33.763577Z"
    }
   },
   "outputs": [],
   "source": [
    "def preprocess(text):\n",
    "    return text"
   ]
  },
  {
   "cell_type": "code",
   "execution_count": null,
   "metadata": {
    "execution": {
     "iopub.execute_input": "2024-01-12T10:27:33.770458Z",
     "iopub.status.busy": "2024-01-12T10:27:33.770143Z",
     "iopub.status.idle": "2024-01-12T10:27:38.061987Z",
     "shell.execute_reply": "2024-01-12T10:27:38.061073Z",
     "shell.execute_reply.started": "2024-01-12T10:27:33.770433Z"
    }
   },
   "outputs": [],
   "source": [
    "model_name = 'macedonizer/mk-gpt2'  \n",
    "tokenizer = AutoTokenizer.from_pretrained(model_name)\n",
    "text_model = AutoModel.from_pretrained(model_name)"
   ]
  },
  {
   "cell_type": "code",
   "execution_count": null,
   "metadata": {
    "execution": {
     "iopub.execute_input": "2024-01-12T10:27:38.064141Z",
     "iopub.status.busy": "2024-01-12T10:27:38.063478Z",
     "iopub.status.idle": "2024-01-12T10:27:38.076195Z",
     "shell.execute_reply": "2024-01-12T10:27:38.075157Z",
     "shell.execute_reply.started": "2024-01-12T10:27:38.064093Z"
    }
   },
   "outputs": [],
   "source": [
    "class MyDataset(Dataset):\n",
    "    \n",
    "    def __init__(self, paths_json, bin_classes):\n",
    "        self.texts = []\n",
    "        self.ids = []\n",
    "        self.labels = []\n",
    "        \n",
    "        for path_json in paths_json:\n",
    "            data = json.load(open(path_json,\"r\",encoding='utf-8'))\n",
    "\n",
    "            for x in tqdm(data):\n",
    "                self.ids.append(x['id'])\n",
    "\n",
    "                if 'labels' in x:\n",
    "                    curr_labels = []\n",
    "                    for bin_class in bin_classes:\n",
    "                        if bin_class in x['labels']:\n",
    "                            curr_labels.append(1)\n",
    "                        else:\n",
    "                            curr_labels.append(0)\n",
    "                    self.labels.append(curr_labels)\n",
    "                else:\n",
    "                    self.labels.append([])\n",
    "\n",
    "                text = preprocess(x['text'])\n",
    "                if text is None:\n",
    "                    text = \"\"\n",
    "                self.texts.append(tokenizer(text,return_tensors='pt',padding='max_length',max_length=128,truncation=True))\n",
    "\n",
    "    def __len__(self):\n",
    "        return len(self.texts)\n",
    "    \n",
    "    def __getitem__(self,idx):\n",
    "        text_tensors = {}\n",
    "        for key, value in self.texts[idx].items():\n",
    "            text_tensors[key] = value.cuda() if isinstance(value, torch.Tensor) else value\n",
    "        \n",
    "        return (text_tensors,torch.tensor(self.labels[idx]))"
   ]
  },
  {
   "cell_type": "code",
   "execution_count": null,
   "metadata": {
    "execution": {
     "iopub.execute_input": "2024-01-12T10:27:38.077706Z",
     "iopub.status.busy": "2024-01-12T10:27:38.077356Z",
     "iopub.status.idle": "2024-01-12T10:27:38.095446Z",
     "shell.execute_reply": "2024-01-12T10:27:38.094298Z",
     "shell.execute_reply.started": "2024-01-12T10:27:38.077667Z"
    }
   },
   "outputs": [],
   "source": [
    "\n",
    "class Model(nn.Module):\n",
    "    def __init__(self):\n",
    "        super(Model, self).__init__()\n",
    "\n",
    "        self.text_encoder = AutoModel.from_pretrained('macedonizer/mk-gpt2')\n",
    "        \n",
    "        self.fc = nn.Linear(98304, 20)  \n",
    "    def forward(self,text_input):\n",
    "\n",
    "        \n",
    "        text_outputs = []\n",
    "\n",
    "        for i in range(text_input['input_ids'].shape[0]):\n",
    "            x = dict()\n",
    "            x['input_ids'] = text_input['input_ids'][i]\n",
    "            #x['token_type_ids'] = text_input['token_type_ids'][i]\n",
    "            x['attention_mask'] = text_input['attention_mask'][i]\n",
    "            text_outputs.append(self.text_encoder(**x).last_hidden_state)\n",
    "            \n",
    "            \n",
    "        text_outputs = torch.stack(text_outputs)\n",
    "\n",
    "        text_outputs = text_outputs.view(text_outputs.size(0), -1)\n",
    "        \n",
    "\n",
    "        output = nn.Sigmoid()(self.fc(nn.Tanh()(text_outputs)))\n",
    "        return output"
   ]
  },
  {
   "cell_type": "code",
   "execution_count": null,
   "metadata": {
    "execution": {
     "iopub.execute_input": "2024-01-12T10:27:38.096925Z",
     "iopub.status.busy": "2024-01-12T10:27:38.096567Z",
     "iopub.status.idle": "2024-01-12T10:27:38.154147Z",
     "shell.execute_reply": "2024-01-12T10:27:38.153071Z",
     "shell.execute_reply.started": "2024-01-12T10:27:38.096897Z"
    }
   },
   "outputs": [],
   "source": [
    "data = json.load(open(PATH_JSON_TRAIN,\"r\",encoding='utf-8'))\n",
    "\n",
    "bin_classes = []\n",
    "\n",
    "for x in data:\n",
    "    for label in x['labels']:\n",
    "        if label not in bin_classes:\n",
    "            bin_classes.append(label)\n",
    "\n",
    "print(len(bin_classes))\n",
    "print(bin_classes)"
   ]
  },
  {
   "cell_type": "code",
   "execution_count": null,
   "metadata": {
    "execution": {
     "iopub.execute_input": "2024-01-12T10:27:38.155579Z",
     "iopub.status.busy": "2024-01-12T10:27:38.155308Z",
     "iopub.status.idle": "2024-01-12T10:27:41.936574Z",
     "shell.execute_reply": "2024-01-12T10:27:41.935452Z",
     "shell.execute_reply.started": "2024-01-12T10:27:38.155555Z"
    }
   },
   "outputs": [],
   "source": [
    "if TRAIN_ALL:\n",
    "    train_data = MyDataset([PATH_JSON_TRAIN, PATH_JSON_VAL, PATH_JSON_DEV], bin_classes)\n",
    "else:\n",
    "    train_data = MyDataset([PATH_JSON_TRAIN], bin_classes)\n",
    "valid_data = MyDataset([PATH_JSON_VAL], bin_classes)\n",
    "test_data = MyDataset([PATH_JSON_TEST], bin_classes)\n",
    "\n",
    "train_dataloader = DataLoader(dataset = train_data, batch_size = BATCH_SIZE, shuffle = True)\n",
    "valid_dataloader = DataLoader(dataset = valid_data, batch_size = BATCH_SIZE, shuffle = False)\n",
    "test_dataloader = DataLoader(dataset = test_data, batch_size = 1, shuffle = False)"
   ]
  },
  {
   "cell_type": "code",
   "execution_count": null,
   "metadata": {},
   "outputs": [],
   "source": [
    "print(np.sum(train_data.labels))\n",
    "print(len(train_data.labels))"
   ]
  },
  {
   "cell_type": "code",
   "execution_count": null,
   "metadata": {
    "execution": {
     "iopub.execute_input": "2024-01-12T10:27:41.940998Z",
     "iopub.status.busy": "2024-01-12T10:27:41.940617Z",
     "iopub.status.idle": "2024-01-12T10:27:41.946338Z",
     "shell.execute_reply": "2024-01-12T10:27:41.945194Z",
     "shell.execute_reply.started": "2024-01-12T10:27:41.940970Z"
    }
   },
   "outputs": [],
   "source": []
  },
  {
   "cell_type": "code",
   "execution_count": null,
   "metadata": {
    "execution": {
     "iopub.execute_input": "2024-01-12T10:27:41.950062Z",
     "iopub.status.busy": "2024-01-12T10:27:41.949063Z"
    }
   },
   "outputs": [],
   "source": [
    "predictions = {}\n",
    "    \n",
    "print(len(train_data))\n",
    "print(train_data.texts[0]['input_ids'].shape)\n",
    "\n",
    "model = Model()\n",
    "model.cuda()\n",
    "model.train()\n",
    "\n",
    "criterion = torch.nn.BCELoss()\n",
    "optimizer = torch.optim.Adam(model.parameters(), lr = LR_FULL)\n",
    "\n",
    "best_loss = 1e9\n",
    "\n",
    "for epoch in range(EPOCHS_FULL):\n",
    "\n",
    "    train_loss = 0.0    \n",
    "    model.train()\n",
    "    for useless_id, (texts_batch, labels_batch) in tqdm(enumerate(train_dataloader)):\n",
    "        optimizer.zero_grad()\n",
    "\n",
    "        labels_batch = labels_batch.to(torch.float32)\n",
    "        labels_batch = labels_batch.to('cuda')\n",
    "\n",
    "        labels_predictions = model(texts_batch)\n",
    "\n",
    "\n",
    "        \n",
    "        loss = criterion(labels_predictions, labels_batch)\n",
    "        loss.backward()\n",
    "\n",
    "        optimizer.step()\n",
    "\n",
    "        train_loss = train_loss + loss.item()\n",
    "\n",
    "   \n",
    "    validation_loss = 0.0\n",
    "    model.eval()\n",
    "    correct = 0\n",
    "    total = 0\n",
    "\n",
    "    for useless_id, (texts_batch, labels_batch) in tqdm(enumerate(valid_dataloader)):\n",
    "        labels_batch = labels_batch.to(torch.float32)\n",
    "        labels_batch = labels_batch.to('cuda')\n",
    "        labels_predictions = model(texts_batch)\n",
    "\n",
    "        loss = criterion(labels_predictions, labels_batch)\n",
    "\n",
    "\n",
    "        validation_loss = validation_loss + loss.item()\n",
    "\n",
    "\n",
    "        predicted = (labels_predictions > 0.5)\n",
    "        \n",
    "        total += labels_batch.size(0)\n",
    "        correct += (predicted == labels_batch).sum().item()\n",
    "\n",
    "\n",
    "    train_loss /= len(train_dataloader.dataset)\n",
    "    validation_loss /= len(train_dataloader.dataset)\n",
    "    accuracy = (correct / total) / len(bin_classes)\n",
    "    print(f'Epoch: {epoch} Train Loss: {train_loss} Validation Loss: {validation_loss} Validation Accuracy: {accuracy * 100:.2f}%')\n",
    "\n",
    "    # Save checkpoint if needed\n",
    "    # checkpoint = {'checkpoint': model.state_dict()}\n",
    "    # torch.save(checkpoint, os.path.join(PATH_SAVE_MODEL, f'checkpoint_{epoch}.pt'))\n",
    "    print(f'Checkpoint reached! Validation loss modified from {best_loss} to {validation_loss}')\n",
    "    best_loss = validation_loss\n",
    "    torch.cuda.empty_cache()\n",
    "                    \n"
   ]
  },
  {
   "cell_type": "code",
   "execution_count": null,
   "metadata": {},
   "outputs": [],
   "source": [
    "for param in model.text_encoder.parameters():\n",
    "    param.requires_grad = False\n",
    "\n",
    "optimizer = torch.optim.Adam(model.parameters(), lr = LR_FC)\n",
    "best_loss = 1e9\n",
    "\n",
    "\n",
    "for epoch in range(EPOCHS_FC):\n",
    "\n",
    "    train_loss = 0.0    \n",
    "    model.train()\n",
    "    for useless_id, (texts_batch, labels_batch) in tqdm(enumerate(train_dataloader)):\n",
    "        optimizer.zero_grad()\n",
    "\n",
    "        labels_batch = labels_batch.to(torch.float32)\n",
    "        labels_batch = labels_batch.to('cuda')\n",
    "\n",
    "        labels_predictions = model(texts_batch)\n",
    "\n",
    "        loss = criterion(labels_predictions, labels_batch)\n",
    "        loss.backward()\n",
    "\n",
    "        optimizer.step()\n",
    "\n",
    "        train_loss = train_loss + loss.item()\n",
    "\n",
    "    # Validation loop\n",
    "    validation_loss = 0.0\n",
    "    model.eval()\n",
    "    correct = 0\n",
    "    total = 0\n",
    "\n",
    "    for useless_id, (texts_batch, labels_batch) in tqdm(enumerate(valid_dataloader)):\n",
    "        labels_batch = labels_batch.to(torch.float32)\n",
    "        labels_batch = labels_batch.to('cuda')\n",
    "\n",
    "        labels_predictions = model(texts_batch)\n",
    "\n",
    "        loss = criterion(labels_predictions, labels_batch)\n",
    "\n",
    "\n",
    "        validation_loss = validation_loss + loss.item()\n",
    "\n",
    "\n",
    "        predicted = (labels_predictions > 0.5)\n",
    "        total += labels_batch.size(0)\n",
    "        correct += (predicted == labels_batch).sum().item()\n",
    "\n",
    "\n",
    "    train_loss /= len(train_dataloader.dataset)\n",
    "    validation_loss /= len(train_dataloader.dataset)\n",
    "    accuracy = (correct / total) / len(bin_classes)\n",
    "    print(f'Epoch: {epoch} Train Loss: {train_loss} Validation Loss: {validation_loss} Validation Accuracy: {accuracy * 100:.2f}%')\n",
    "\n",
    "\n",
    "\n",
    "\n",
    "\n",
    "    # Save checkpoint if needed\n",
    "    # checkpoint = {'checkpoint': model.state_dict()}\n",
    "    # torch.save(checkpoint, os.path.join(PATH_SAVE_MODEL, f'fc_checkpoint_{epoch}.pt'))\n",
    "    print(f'Checkpoint reached! Validation loss modified from {best_loss} to {validation_loss}')\n",
    "    best_loss = validation_loss\n",
    "    torch.cuda.empty_cache()\n",
    "\n",
    "    checkpoint = {'checkpoint': model.state_dict()}\n",
    "    torch.save(checkpoint, os.path.join(PATH_SAVE_MODEL, f'checkpoint_extra.pt'))\n",
    "\n",
    "    #import torch\n",
    "    # model.train()\n",
    "    # checkpoint = torch.load(os.path.join(PATH_SAVE_MODEL, f'fc_checkpoint_{4}.pt'))\n",
    "\n",
    "    # # Apply the state dictionary to the model\n",
    "    # model.load_state_dict(checkpoint['checkpoint'])"
   ]
  },
  {
   "cell_type": "code",
   "execution_count": null,
   "metadata": {},
   "outputs": [],
   "source": []
  },
  {
   "cell_type": "code",
   "execution_count": null,
   "metadata": {},
   "outputs": [],
   "source": []
  },
  {
   "cell_type": "code",
   "execution_count": null,
   "metadata": {},
   "outputs": [],
   "source": []
  },
  {
   "cell_type": "code",
   "execution_count": null,
   "metadata": {},
   "outputs": [],
   "source": []
  },
  {
   "cell_type": "code",
   "execution_count": null,
   "metadata": {
    "scrolled": false
   },
   "outputs": [],
   "source": [
    "predictions = {}\n",
    "ids = []\n",
    "\n",
    "for useless_id, (texts_batch, labels_batch) in tqdm(enumerate(test_dataloader)):\n",
    "    model.eval()\n",
    "    #print(texts_batch)\n",
    "    labels_predictions = model(texts_batch)\n",
    "\n",
    "\n",
    "    predicted = (labels_predictions > 0.25)[0]\n",
    "    \n",
    "    curr_id = test_data.ids[useless_id]\n",
    "    if curr_id not in predictions:\n",
    "        predictions[curr_id] = []\n",
    "        \n",
    "    idx_bin_class = 0\n",
    "    for bin_class in bin_classes:\n",
    "        if predicted[idx_bin_class]:\n",
    "            predictions[curr_id].append(bin_class)\n",
    "        idx_bin_class += 1"
   ]
  },
  {
   "cell_type": "code",
   "execution_count": null,
   "metadata": {},
   "outputs": [],
   "source": [
    "output_json = []\n",
    "for k,v in predictions.items():\n",
    "    output_json.append({\"id\" : k, \"labels\" : v})\n",
    "\n",
    "with open(os.path.join(PATH_SAVE_SUBMISSION, \"submission_MK_BERT.txt\"),\"w\") as fout:\n",
    "    json.dump(output_json, fout)"
   ]
  },
  {
   "cell_type": "code",
   "execution_count": null,
   "metadata": {},
   "outputs": [],
   "source": []
  },
  {
   "cell_type": "code",
   "execution_count": null,
   "metadata": {},
   "outputs": [],
   "source": []
  }
 ],
 "metadata": {
  "kaggle": {
   "accelerator": "gpu",
   "dataSources": [
    {
     "datasetId": 4291150,
     "sourceId": 7383307,
     "sourceType": "datasetVersion"
    }
   ],
   "dockerImageVersionId": 30636,
   "isGpuEnabled": true,
   "isInternetEnabled": true,
   "language": "python",
   "sourceType": "notebook"
  },
  "kernelspec": {
   "display_name": "Python 3 (ipykernel)",
   "language": "python",
   "name": "python3"
  },
  "language_info": {
   "codemirror_mode": {
    "name": "ipython",
    "version": 3
   },
   "file_extension": ".py",
   "mimetype": "text/x-python",
   "name": "python",
   "nbconvert_exporter": "python",
   "pygments_lexer": "ipython3",
   "version": "3.10.11"
  }
 },
 "nbformat": 4,
 "nbformat_minor": 4
}
