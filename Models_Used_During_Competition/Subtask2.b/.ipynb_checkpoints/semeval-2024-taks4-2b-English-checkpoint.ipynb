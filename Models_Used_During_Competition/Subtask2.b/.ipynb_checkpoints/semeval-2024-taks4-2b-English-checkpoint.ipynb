{
 "cells": [
  {
   "cell_type": "code",
   "execution_count": 1,
   "id": "11473892",
   "metadata": {
    "execution": {
     "iopub.execute_input": "2024-01-11T13:37:32.661304Z",
     "iopub.status.busy": "2024-01-11T13:37:32.660922Z",
     "iopub.status.idle": "2024-01-11T13:37:49.305462Z",
     "shell.execute_reply": "2024-01-11T13:37:49.304630Z",
     "shell.execute_reply.started": "2024-01-11T13:37:32.661271Z"
    }
   },
   "outputs": [
    {
     "name": "stdout",
     "output_type": "stream",
     "text": [
      "WARNING:tensorflow:From C:\\Users\\ionut\\anaconda3\\envs\\mlenvfinal\\lib\\site-packages\\keras\\src\\losses.py:2976: The name tf.losses.sparse_softmax_cross_entropy is deprecated. Please use tf.compat.v1.losses.sparse_softmax_cross_entropy instead.\n",
      "\n"
     ]
    }
   ],
   "source": [
    "import torch.nn as nn\n",
    "import torch.nn.functional as F\n",
    "from torch.utils.data import DataLoader, Dataset\n",
    "import PIL\n",
    "import torchvision\n",
    "import numpy\n",
    "import pandas\n",
    "import torch \n",
    "import torch.optim as optim\n",
    "import gc\n",
    "from torch.optim.lr_scheduler import StepLR\n",
    "import cv2\n",
    "import os\n",
    "import json\n",
    "import numpy as np\n",
    "from transformers import BertModel, BertTokenizer\n",
    "import torch\n",
    "import matplotlib.pyplot as plt\n",
    "from transformers import AutoTokenizer, AutoModel\n",
    "from transformers import T5EncoderModel\n",
    "from transformers import GPT2Tokenizer, GPT2Model\n",
    "from transformers import ViTImageProcessor, ViTModel\n",
    "from PIL import Image\n",
    "import requests\n",
    "from tqdm import tqdm\n",
    "import re \n",
    "import string "
   ]
  },
  {
   "cell_type": "code",
   "execution_count": 2,
   "id": "4c0363c1",
   "metadata": {
    "execution": {
     "iopub.execute_input": "2024-01-11T13:37:49.307566Z",
     "iopub.status.busy": "2024-01-11T13:37:49.307002Z",
     "iopub.status.idle": "2024-01-11T13:37:49.314565Z",
     "shell.execute_reply": "2024-01-11T13:37:49.313496Z",
     "shell.execute_reply.started": "2024-01-11T13:37:49.307529Z"
    }
   },
   "outputs": [],
   "source": [
    "PATH_DATASETS = \".\"\n",
    "PATH_JSON_TRAIN = os.path.join(PATH_DATASETS, \"annotations/data/subtask2b/train.json\") \n",
    "PATH_JSON_VAL = os.path.join(PATH_DATASETS, \"annotations/data/subtask2b/val.json\") \n",
    "PATH_JSON_DEV = os.path.join(PATH_DATASETS, \"annotations/data/subtask2b/dev_subtask2b_en.json\") \n",
    "PATH_JSON_TEST = \"./test_data/english/en_subtask2b_test_unlabeled.json\"\n",
    "\n",
    "\n",
    "PATH_IMG_TRAIN = \"./subtask_2b/train\"\n",
    "PATH_IMG_VAL = \"./subtask_2b/val\"\n",
    "PATH_IMG_DEV = \"./subtask_2b/dev\"\n",
    "PATH_IMG_TEST = \"./test_images/subtask2b/english\"\n",
    "\n",
    "PATH_SAVE_MODEL = \"subtask2b_models\"\n",
    "PATH_SAVE_SUBMISSION = \"subtask2b_submissions\"\n",
    "\n",
    "os.makedirs(PATH_SAVE_MODEL, exist_ok=True)\n",
    "os.makedirs(PATH_SAVE_SUBMISSION, exist_ok=True)\n",
    "\n",
    "BATCH_SIZE = 8\n",
    "\n",
    "EPOCHS_FULL = 5\n",
    "LR_FULL = 1e-5\n",
    "\n",
    "EPOCHS_FC = 5\n",
    "LR_FC = 3e-6\n",
    "\n",
    "TRAIN_ALL = True"
   ]
  },
  {
   "cell_type": "code",
   "execution_count": 3,
   "id": "7bcaefc4",
   "metadata": {
    "execution": {
     "iopub.execute_input": "2024-01-11T13:37:49.316211Z",
     "iopub.status.busy": "2024-01-11T13:37:49.315843Z",
     "iopub.status.idle": "2024-01-11T13:37:49.347674Z",
     "shell.execute_reply": "2024-01-11T13:37:49.346746Z",
     "shell.execute_reply.started": "2024-01-11T13:37:49.316177Z"
    },
    "scrolled": true
   },
   "outputs": [
    {
     "name": "stdout",
     "output_type": "stream",
     "text": [
      "{'id': '35807', 'text': 'DONALD TRUMP: BARACK\\\\nOBAMA AND JOE BIDEN\\\\nWILL BE IMPLICATED IN\\\\nRUSSIA HOAX\\\\nAP Photo/Pablo Martinez Monsivais', 'image': 'prop_meme_6570.png', 'label': 'propagandistic'}\n"
     ]
    }
   ],
   "source": [
    "data = json.load(open(PATH_JSON_TRAIN,\"r\",encoding='utf-8'))\n",
    "\n",
    "print(data[0])"
   ]
  },
  {
   "cell_type": "code",
   "execution_count": 4,
   "id": "bb37f9dd",
   "metadata": {
    "execution": {
     "iopub.execute_input": "2024-01-11T13:37:49.350564Z",
     "iopub.status.busy": "2024-01-11T13:37:49.350261Z",
     "iopub.status.idle": "2024-01-11T13:37:49.354765Z",
     "shell.execute_reply": "2024-01-11T13:37:49.353816Z",
     "shell.execute_reply.started": "2024-01-11T13:37:49.350532Z"
    }
   },
   "outputs": [],
   "source": [
    "def preprocess(text):\n",
    "    return text"
   ]
  },
  {
   "cell_type": "code",
   "execution_count": 5,
   "id": "32e9955b",
   "metadata": {
    "execution": {
     "iopub.execute_input": "2024-01-11T13:37:49.356360Z",
     "iopub.status.busy": "2024-01-11T13:37:49.356007Z",
     "iopub.status.idle": "2024-01-11T13:37:49.364424Z",
     "shell.execute_reply": "2024-01-11T13:37:49.363575Z",
     "shell.execute_reply.started": "2024-01-11T13:37:49.356328Z"
    }
   },
   "outputs": [],
   "source": [
    "transform = torchvision.transforms.Compose([\n",
    "                #torchvision.transforms.ToPILImage(),\n",
    "                #torchvision.transforms.Resize((224,224),interpolation = PIL.Image.BICUBIC),\n",
    "                #torchvision.transforms.ToTensor(),\n",
    "                #torchvision.transforms.Normalize(mean=[0.5, 0.5, 0.5], std=[0.5, 0.5, 0.5])\n",
    "            ])"
   ]
  },
  {
   "cell_type": "code",
   "execution_count": 6,
   "id": "4d568186",
   "metadata": {
    "execution": {
     "iopub.execute_input": "2024-01-11T13:37:49.365731Z",
     "iopub.status.busy": "2024-01-11T13:37:49.365473Z",
     "iopub.status.idle": "2024-01-11T13:37:52.573184Z",
     "shell.execute_reply": "2024-01-11T13:37:52.572250Z",
     "shell.execute_reply.started": "2024-01-11T13:37:49.365708Z"
    }
   },
   "outputs": [],
   "source": [
    "tokenizer = AutoTokenizer.from_pretrained('limjiayi/bert-hateful-memes-expanded')\n",
    "processor = ViTImageProcessor.from_pretrained('google/vit-base-patch16-224-in21k',do_resize = True,do_rescale = True,do_normalize = True,image_mean = [0.5,0.5,0.5],image_std = [0.5,0.5,0.5])"
   ]
  },
  {
   "cell_type": "code",
   "execution_count": 7,
   "id": "84bbc08b",
   "metadata": {
    "execution": {
     "iopub.execute_input": "2024-01-11T13:37:52.575363Z",
     "iopub.status.busy": "2024-01-11T13:37:52.574617Z",
     "iopub.status.idle": "2024-01-11T13:37:52.593355Z",
     "shell.execute_reply": "2024-01-11T13:37:52.592423Z",
     "shell.execute_reply.started": "2024-01-11T13:37:52.575327Z"
    }
   },
   "outputs": [],
   "source": [
    "class MyDataset(Dataset):\n",
    "    \n",
    "    def __init__(self, paths_json_img):\n",
    "        self.filenames = []\n",
    "        self.texts = []\n",
    "        self.labels = []\n",
    "        self.images = []\n",
    "        self.ids = []\n",
    "        \n",
    "        for path_json, path_img in paths_json_img:\n",
    "            data_train = json.load(open(path_json,\"r\",encoding='utf-8'))\n",
    "\n",
    "            for x in tqdm(data_train):\n",
    "                currentPath = os.path.join(path_img,x['image'])\n",
    "                \n",
    "                #print(currentPath)\n",
    "                \n",
    "                self.ids.append(x['id'])\n",
    "\n",
    "                if 'label' in x:\n",
    "                    if x['label']==\"non_propagandistic\":\n",
    "                        self.labels.append(0)\n",
    "                    else:\n",
    "                        self.labels.append(1)\n",
    "                else:\n",
    "                    self.labels.append(0)\n",
    "\n",
    "                text = preprocess(x['text'])\n",
    "                if text is None:\n",
    "                    text = \"\"\n",
    "                self.texts.append(tokenizer(text,return_tensors='pt',padding='max_length',max_length=128,truncation=True))\n",
    "                self.filenames.append(x['image'])\n",
    "\n",
    "                currentImage = cv2.imread(currentPath)\n",
    "                currentImage = torch.tensor(transform(currentImage)).unsqueeze(0)\n",
    "                features = processor(currentImage)\n",
    "                self.images.append(features)\n",
    "\n",
    "    def __len__(self):\n",
    "        return len(self.images)\n",
    "    \n",
    "    def __getitem__(self,idx):\n",
    "        \n",
    "        text_tensors = {}\n",
    "        for key, value in self.texts[idx].items():\n",
    "            text_tensors[key] = value.cuda() if isinstance(value, torch.Tensor) else value\n",
    "        \n",
    "        \n",
    "        image_tensors = {}\n",
    "        for key, value in self.images[idx].items():\n",
    "            image_tensors[key] = value.cuda() if isinstance(value, torch.Tensor) else value\n",
    "            \n",
    "        return ((image_tensors,text_tensors),self.labels[idx])"
   ]
  },
  {
   "cell_type": "code",
   "execution_count": 8,
   "id": "6fd9f689",
   "metadata": {
    "execution": {
     "iopub.execute_input": "2024-01-11T13:37:52.594771Z",
     "iopub.status.busy": "2024-01-11T13:37:52.594474Z",
     "iopub.status.idle": "2024-01-11T13:39:03.158539Z",
     "shell.execute_reply": "2024-01-11T13:39:03.157507Z",
     "shell.execute_reply.started": "2024-01-11T13:37:52.594747Z"
    }
   },
   "outputs": [
    {
     "name": "stderr",
     "output_type": "stream",
     "text": [
      "100%|██████████████████████████████████████████████████████████████████████████████| 1200/1200 [00:30<00:00, 39.66it/s]\n",
      "100%|████████████████████████████████████████████████████████████████████████████████| 150/150 [00:03<00:00, 38.87it/s]\n",
      "100%|████████████████████████████████████████████████████████████████████████████████| 300/300 [00:07<00:00, 37.75it/s]\n",
      "100%|████████████████████████████████████████████████████████████████████████████████| 150/150 [00:03<00:00, 46.22it/s]\n",
      "100%|████████████████████████████████████████████████████████████████████████████████| 600/600 [00:14<00:00, 40.39it/s]\n"
     ]
    }
   ],
   "source": [
    "train_data = MyDataset([(PATH_JSON_TRAIN, PATH_IMG_TRAIN), (PATH_JSON_VAL, PATH_IMG_VAL),(PATH_JSON_DEV, PATH_IMG_DEV)])\n",
    "valid_data = MyDataset([(PATH_JSON_VAL, PATH_IMG_VAL)])\n",
    "test_data = MyDataset([(PATH_JSON_TEST, PATH_IMG_TEST)])\n",
    "\n",
    "train_dataloader = DataLoader(dataset = train_data, batch_size = BATCH_SIZE, shuffle = True)\n",
    "valid_dataloader = DataLoader(dataset = valid_data, batch_size = BATCH_SIZE, shuffle = False)\n",
    "test_dataloader = DataLoader(dataset = test_data, batch_size = 1, shuffle = False)"
   ]
  },
  {
   "cell_type": "code",
   "execution_count": 9,
   "id": "d1b95efd",
   "metadata": {
    "execution": {
     "iopub.execute_input": "2024-01-11T13:39:03.160001Z",
     "iopub.status.busy": "2024-01-11T13:39:03.159715Z",
     "iopub.status.idle": "2024-01-11T13:39:03.165400Z",
     "shell.execute_reply": "2024-01-11T13:39:03.164424Z",
     "shell.execute_reply.started": "2024-01-11T13:39:03.159975Z"
    }
   },
   "outputs": [
    {
     "name": "stdout",
     "output_type": "stream",
     "text": [
      "1\n",
      "1650\n",
      "torch.Size([1, 128])\n"
     ]
    }
   ],
   "source": [
    "# print(len(train_data.images[0]['pixel_values']))\n",
    "# print(len(train_data))\n",
    "# print(train_data.texts[260]['input_ids'].shape)"
   ]
  },
  {
   "cell_type": "code",
   "execution_count": 10,
   "id": "e12cdb79",
   "metadata": {
    "execution": {
     "iopub.execute_input": "2024-01-11T13:39:03.169085Z",
     "iopub.status.busy": "2024-01-11T13:39:03.168776Z",
     "iopub.status.idle": "2024-01-11T13:39:16.825229Z",
     "shell.execute_reply": "2024-01-11T13:39:16.824205Z",
     "shell.execute_reply.started": "2024-01-11T13:39:03.169059Z"
    }
   },
   "outputs": [
    {
     "name": "stderr",
     "output_type": "stream",
     "text": [
      "C:\\Users\\ionut\\anaconda3\\envs\\mlenvfinal\\lib\\site-packages\\torch\\_utils.py:776: UserWarning: TypedStorage is deprecated. It will be removed in the future and UntypedStorage will be the only storage class. This should only matter to you if you are using storages directly.  To access UntypedStorage directly, use tensor.untyped_storage() instead of tensor.storage()\n",
      "  return self.fget.__get__(instance, owner)()\n",
      "Some weights of BertModel were not initialized from the model checkpoint at limjiayi/bert-hateful-memes-expanded and are newly initialized: ['bert.pooler.dense.weight', 'bert.pooler.dense.bias']\n",
      "You should probably TRAIN this model on a down-stream task to be able to use it for predictions and inference.\n"
     ]
    }
   ],
   "source": [
    "model_name = 'limjiayi/bert-hateful-memes-expanded'  \n",
    "text_tokenizer = AutoTokenizer.from_pretrained(model_name)\n",
    "text_model = AutoModel.from_pretrained(model_name)"
   ]
  },
  {
   "cell_type": "code",
   "execution_count": 11,
   "id": "90b1ddf6",
   "metadata": {
    "execution": {
     "iopub.execute_input": "2024-01-11T13:39:16.827067Z",
     "iopub.status.busy": "2024-01-11T13:39:16.826685Z",
     "iopub.status.idle": "2024-01-11T13:39:16.840674Z",
     "shell.execute_reply": "2024-01-11T13:39:16.837915Z",
     "shell.execute_reply.started": "2024-01-11T13:39:16.827032Z"
    }
   },
   "outputs": [],
   "source": [
    "\n",
    "class Model(nn.Module):\n",
    "    def __init__(self):\n",
    "        super(Model, self).__init__()\n",
    "      \n",
    "        self.text_encoder = AutoModel.from_pretrained('limjiayi/bert-hateful-memes-expanded')\n",
    "        \n",
    "        self.image_encoder = ViTModel.from_pretrained('google/vit-base-patch16-224-in21k')\n",
    "        \n",
    "        self.fc = nn.Linear(249600, 2) \n",
    "        self.fc2 = nn.Linear(128,2)\n",
    "    def forward(self,  images,text_input):\n",
    "        # Process text input\n",
    "        \n",
    "        text_outputs = []\n",
    "\n",
    "        for i in range(text_input['input_ids'].shape[0]):\n",
    "            x = dict()\n",
    "            x['input_ids'] = text_input['input_ids'][i]\n",
    "            x['token_type_ids'] = text_input['token_type_ids'][i]\n",
    "            x['attention_mask'] = text_input['attention_mask'][i]\n",
    "            text_outputs.append(self.text_encoder(**x).last_hidden_state)\n",
    "            \n",
    "            \n",
    "        text_outputs = torch.stack(text_outputs)\n",
    "        image_outputs = []\n",
    "        \n",
    "        for i in range(images['pixel_values'][0].shape[0]):\n",
    "            x = dict()\n",
    "            x['pixel_values'] = images['pixel_values'][0][i].unsqueeze(0).cuda()\n",
    "          \n",
    "            image_outputs.append(self.image_encoder(**x).last_hidden_state)\n",
    "        \n",
    "        image_outputs = torch.stack(image_outputs)\n",
    "\n",
    "\n",
    "        text_outputs = text_outputs.view(text_outputs.size(0), -1)\n",
    "        \n",
    "        image_outputs = image_outputs.view(image_outputs.size(0), -1)\n",
    "        combined = torch.cat((text_outputs, image_outputs), dim=1)\n",
    "        \n",
    "    \n",
    "        output = self.fc(nn.Tanh()(combined))\n",
    "        return output"
   ]
  },
  {
   "cell_type": "code",
   "execution_count": 12,
   "id": "938899f0",
   "metadata": {
    "execution": {
     "iopub.execute_input": "2024-01-11T13:39:16.843428Z",
     "iopub.status.busy": "2024-01-11T13:39:16.842131Z",
     "iopub.status.idle": "2024-01-11T13:39:17.982589Z",
     "shell.execute_reply": "2024-01-11T13:39:17.981530Z",
     "shell.execute_reply.started": "2024-01-11T13:39:16.843401Z"
    }
   },
   "outputs": [
    {
     "name": "stdout",
     "output_type": "stream",
     "text": [
      "1100\n",
      "(1650,)\n"
     ]
    }
   ],
   "source": [
    "print(np.sum(train_data.labels))\n",
    "print(np.shape(train_data.labels))"
   ]
  },
  {
   "cell_type": "code",
   "execution_count": null,
   "id": "639aed63",
   "metadata": {},
   "outputs": [],
   "source": []
  },
  {
   "cell_type": "code",
   "execution_count": 27,
   "id": "76c6552a",
   "metadata": {
    "execution": {
     "iopub.execute_input": "2024-01-11T13:39:17.984312Z",
     "iopub.status.busy": "2024-01-11T13:39:17.983909Z",
     "iopub.status.idle": "2024-01-11T13:39:18.142665Z",
     "shell.execute_reply": "2024-01-11T13:39:18.141800Z",
     "shell.execute_reply.started": "2024-01-11T13:39:17.984284Z"
    }
   },
   "outputs": [
    {
     "name": "stdout",
     "output_type": "stream",
     "text": [
      "1650\n",
      "1100\n"
     ]
    }
   ],
   "source": [
    "total_samples = len(train_data)\n",
    "print(total_samples)\n",
    "print(np.sum(train_data.labels))\n",
    "\n",
    "class_sample_counts = [450, 900]  \n",
    "class_weights = [total_samples / (len(class_sample_counts) * count) for count in class_sample_counts]\n",
    "class_weights = torch.tensor(class_weights, dtype=torch.float).to('cuda')"
   ]
  },
  {
   "cell_type": "code",
   "execution_count": 28,
   "id": "f1426232",
   "metadata": {
    "execution": {
     "iopub.execute_input": "2024-01-11T13:39:18.144158Z",
     "iopub.status.busy": "2024-01-11T13:39:18.143860Z",
     "iopub.status.idle": "2024-01-11T13:39:29.330314Z",
     "shell.execute_reply": "2024-01-11T13:39:29.329434Z",
     "shell.execute_reply.started": "2024-01-11T13:39:18.144124Z"
    }
   },
   "outputs": [
    {
     "name": "stderr",
     "output_type": "stream",
     "text": [
      "C:\\Users\\ionut\\anaconda3\\envs\\mlenvfinal\\lib\\site-packages\\torch\\_utils.py:776: UserWarning: TypedStorage is deprecated. It will be removed in the future and UntypedStorage will be the only storage class. This should only matter to you if you are using storages directly.  To access UntypedStorage directly, use tensor.untyped_storage() instead of tensor.storage()\n",
      "  return self.fget.__get__(instance, owner)()\n",
      "Some weights of BertModel were not initialized from the model checkpoint at limjiayi/bert-hateful-memes-expanded and are newly initialized: ['bert.pooler.dense.weight', 'bert.pooler.dense.bias']\n",
      "You should probably TRAIN this model on a down-stream task to be able to use it for predictions and inference.\n"
     ]
    },
    {
     "data": {
      "text/plain": [
       "Model(\n",
       "  (text_encoder): BertModel(\n",
       "    (embeddings): BertEmbeddings(\n",
       "      (word_embeddings): Embedding(30522, 768, padding_idx=0)\n",
       "      (position_embeddings): Embedding(512, 768)\n",
       "      (token_type_embeddings): Embedding(2, 768)\n",
       "      (LayerNorm): LayerNorm((768,), eps=1e-12, elementwise_affine=True)\n",
       "      (dropout): Dropout(p=0.1, inplace=False)\n",
       "    )\n",
       "    (encoder): BertEncoder(\n",
       "      (layer): ModuleList(\n",
       "        (0-11): 12 x BertLayer(\n",
       "          (attention): BertAttention(\n",
       "            (self): BertSelfAttention(\n",
       "              (query): Linear(in_features=768, out_features=768, bias=True)\n",
       "              (key): Linear(in_features=768, out_features=768, bias=True)\n",
       "              (value): Linear(in_features=768, out_features=768, bias=True)\n",
       "              (dropout): Dropout(p=0.1, inplace=False)\n",
       "            )\n",
       "            (output): BertSelfOutput(\n",
       "              (dense): Linear(in_features=768, out_features=768, bias=True)\n",
       "              (LayerNorm): LayerNorm((768,), eps=1e-12, elementwise_affine=True)\n",
       "              (dropout): Dropout(p=0.1, inplace=False)\n",
       "            )\n",
       "          )\n",
       "          (intermediate): BertIntermediate(\n",
       "            (dense): Linear(in_features=768, out_features=3072, bias=True)\n",
       "            (intermediate_act_fn): GELUActivation()\n",
       "          )\n",
       "          (output): BertOutput(\n",
       "            (dense): Linear(in_features=3072, out_features=768, bias=True)\n",
       "            (LayerNorm): LayerNorm((768,), eps=1e-12, elementwise_affine=True)\n",
       "            (dropout): Dropout(p=0.1, inplace=False)\n",
       "          )\n",
       "        )\n",
       "      )\n",
       "    )\n",
       "    (pooler): BertPooler(\n",
       "      (dense): Linear(in_features=768, out_features=768, bias=True)\n",
       "      (activation): Tanh()\n",
       "    )\n",
       "  )\n",
       "  (image_encoder): ViTModel(\n",
       "    (embeddings): ViTEmbeddings(\n",
       "      (patch_embeddings): ViTPatchEmbeddings(\n",
       "        (projection): Conv2d(3, 768, kernel_size=(16, 16), stride=(16, 16))\n",
       "      )\n",
       "      (dropout): Dropout(p=0.0, inplace=False)\n",
       "    )\n",
       "    (encoder): ViTEncoder(\n",
       "      (layer): ModuleList(\n",
       "        (0-11): 12 x ViTLayer(\n",
       "          (attention): ViTAttention(\n",
       "            (attention): ViTSelfAttention(\n",
       "              (query): Linear(in_features=768, out_features=768, bias=True)\n",
       "              (key): Linear(in_features=768, out_features=768, bias=True)\n",
       "              (value): Linear(in_features=768, out_features=768, bias=True)\n",
       "              (dropout): Dropout(p=0.0, inplace=False)\n",
       "            )\n",
       "            (output): ViTSelfOutput(\n",
       "              (dense): Linear(in_features=768, out_features=768, bias=True)\n",
       "              (dropout): Dropout(p=0.0, inplace=False)\n",
       "            )\n",
       "          )\n",
       "          (intermediate): ViTIntermediate(\n",
       "            (dense): Linear(in_features=768, out_features=3072, bias=True)\n",
       "            (intermediate_act_fn): GELUActivation()\n",
       "          )\n",
       "          (output): ViTOutput(\n",
       "            (dense): Linear(in_features=3072, out_features=768, bias=True)\n",
       "            (dropout): Dropout(p=0.0, inplace=False)\n",
       "          )\n",
       "          (layernorm_before): LayerNorm((768,), eps=1e-12, elementwise_affine=True)\n",
       "          (layernorm_after): LayerNorm((768,), eps=1e-12, elementwise_affine=True)\n",
       "        )\n",
       "      )\n",
       "    )\n",
       "    (layernorm): LayerNorm((768,), eps=1e-12, elementwise_affine=True)\n",
       "    (pooler): ViTPooler(\n",
       "      (dense): Linear(in_features=768, out_features=768, bias=True)\n",
       "      (activation): Tanh()\n",
       "    )\n",
       "  )\n",
       "  (fc): Linear(in_features=249600, out_features=2, bias=True)\n",
       "  (fc2): Linear(in_features=128, out_features=2, bias=True)\n",
       ")"
      ]
     },
     "execution_count": 28,
     "metadata": {},
     "output_type": "execute_result"
    }
   ],
   "source": [
    "model = Model()\n",
    "model.cuda()\n",
    "model.train()"
   ]
  },
  {
   "cell_type": "code",
   "execution_count": 29,
   "id": "43f42039",
   "metadata": {
    "execution": {
     "iopub.execute_input": "2024-01-11T13:39:29.331799Z",
     "iopub.status.busy": "2024-01-11T13:39:29.331509Z",
     "iopub.status.idle": "2024-01-11T13:39:29.336292Z",
     "shell.execute_reply": "2024-01-11T13:39:29.335394Z",
     "shell.execute_reply.started": "2024-01-11T13:39:29.331774Z"
    }
   },
   "outputs": [],
   "source": [
    "criterion = torch.nn.CrossEntropyLoss(weight = class_weights)"
   ]
  },
  {
   "cell_type": "code",
   "execution_count": 30,
   "id": "6b9a00ad",
   "metadata": {
    "execution": {
     "iopub.execute_input": "2024-01-11T13:39:29.337998Z",
     "iopub.status.busy": "2024-01-11T13:39:29.337727Z",
     "iopub.status.idle": "2024-01-11T13:39:29.348667Z",
     "shell.execute_reply": "2024-01-11T13:39:29.347842Z",
     "shell.execute_reply.started": "2024-01-11T13:39:29.337975Z"
    }
   },
   "outputs": [],
   "source": [
    "optimizer = torch.optim.Adam(model.parameters(), lr = LR_FULL)"
   ]
  },
  {
   "cell_type": "code",
   "execution_count": 31,
   "id": "3e4f5ada",
   "metadata": {
    "execution": {
     "iopub.execute_input": "2024-01-11T13:39:29.350004Z",
     "iopub.status.busy": "2024-01-11T13:39:29.349731Z",
     "iopub.status.idle": "2024-01-11T13:46:41.883055Z",
     "shell.execute_reply": "2024-01-11T13:46:41.882167Z",
     "shell.execute_reply.started": "2024-01-11T13:39:29.349975Z"
    }
   },
   "outputs": [
    {
     "name": "stderr",
     "output_type": "stream",
     "text": [
      "207it [01:24,  2.45it/s]\n",
      "19it [00:12,  1.51it/s]\n"
     ]
    },
    {
     "name": "stdout",
     "output_type": "stream",
     "text": [
      "Epoch: 0 Train Loss: 0.06211537418491912 Validation Loss: 0.0031594300044305397 Validation Accuracy: 90.00%\n",
      "Checkpoint reached! Validation loss modified from 1000000000.0 to 0.0031594300044305397\n"
     ]
    },
    {
     "name": "stderr",
     "output_type": "stream",
     "text": [
      "207it [05:54,  1.71s/it]\n",
      "19it [00:12,  1.57it/s]\n"
     ]
    },
    {
     "name": "stdout",
     "output_type": "stream",
     "text": [
      "Epoch: 1 Train Loss: 0.028244069501983396 Validation Loss: 0.0011206580021164633 Validation Accuracy: 99.33%\n",
      "Checkpoint reached! Validation loss modified from 0.0031594300044305397 to 0.0011206580021164633\n"
     ]
    },
    {
     "name": "stderr",
     "output_type": "stream",
     "text": [
      "183it [07:19,  2.40s/it]\n"
     ]
    },
    {
     "ename": "KeyboardInterrupt",
     "evalue": "",
     "output_type": "error",
     "traceback": [
      "\u001b[1;31m---------------------------------------------------------------------------\u001b[0m",
      "\u001b[1;31mKeyboardInterrupt\u001b[0m                         Traceback (most recent call last)",
      "Cell \u001b[1;32mIn[31], line 20\u001b[0m\n\u001b[0;32m     16\u001b[0m     loss\u001b[38;5;241m.\u001b[39mbackward()\n\u001b[0;32m     18\u001b[0m     optimizer\u001b[38;5;241m.\u001b[39mstep()\n\u001b[1;32m---> 20\u001b[0m     train_loss \u001b[38;5;241m=\u001b[39m train_loss \u001b[38;5;241m+\u001b[39m loss\u001b[38;5;241m.\u001b[39mitem()\n\u001b[0;32m     22\u001b[0m \u001b[38;5;66;03m# Validation loop\u001b[39;00m\n\u001b[0;32m     23\u001b[0m validation_loss \u001b[38;5;241m=\u001b[39m \u001b[38;5;241m0.0\u001b[39m\n",
      "\u001b[1;31mKeyboardInterrupt\u001b[0m: "
     ]
    }
   ],
   "source": [
    "best_loss = 1e9\n",
    "\n",
    "for epoch in range(EPOCHS_FULL):\n",
    "\n",
    "    train_loss = 0.0    \n",
    "    model.train()\n",
    "    for useless_id, ((images_batch, texts_batch), labels_batch) in tqdm(enumerate(train_dataloader)):\n",
    "        optimizer.zero_grad()\n",
    "        \n",
    "        labels_batch = labels_batch.type(torch.LongTensor)\n",
    "        labels_batch = labels_batch.to('cuda')\n",
    "        \n",
    "        labels_predictions = model(images_batch, texts_batch)\n",
    "        \n",
    "        loss = criterion(labels_predictions, labels_batch)\n",
    "        loss.backward()\n",
    "        \n",
    "        optimizer.step()\n",
    "        \n",
    "        train_loss = train_loss + loss.item()\n",
    "    \n",
    "    # Validation loop\n",
    "    validation_loss = 0.0\n",
    "    model.eval()\n",
    "    correct = 0\n",
    "    total = 0\n",
    "    \n",
    "    for useless_id, ((images_batch, texts_batch), labels_batch) in tqdm(enumerate(valid_dataloader)):\n",
    "        labels_batch = labels_batch.to('cuda')\n",
    "        labels_predictions = model(images_batch, texts_batch)\n",
    "        \n",
    "        loss = criterion(labels_predictions, labels_batch)\n",
    "       \n",
    "        \n",
    "        validation_loss = validation_loss + loss.item()\n",
    "        \n",
    "        \n",
    "        _, predicted = torch.max(labels_predictions, 1)\n",
    "        total += labels_batch.size(0)\n",
    "        correct += (predicted == labels_batch).sum().item()\n",
    "        \n",
    "\n",
    "    train_loss /= len(train_dataloader.dataset)\n",
    "    validation_loss /= len(train_dataloader.dataset)\n",
    "    accuracy = correct / total\n",
    "    print(f'Epoch: {epoch} Train Loss: {train_loss} Validation Loss: {validation_loss} Validation Accuracy: {accuracy * 100:.2f}%')\n",
    "        \n",
    "    # Save checkpoint if needed\n",
    "    # checkpoint = {'checkpoint': model.state_dict()}\n",
    "    # torch.save(checkpoint, os.path.join(PATH_SAVE_MODEL, f'checkpoint_{epoch}.pt'))\n",
    "    print(f'Checkpoint reached! Validation loss modified from {best_loss} to {validation_loss}')\n",
    "    best_loss = validation_loss\n",
    "    torch.cuda.empty_cache()"
   ]
  },
  {
   "cell_type": "code",
   "execution_count": null,
   "id": "ece1abf4",
   "metadata": {
    "execution": {
     "iopub.execute_input": "2024-01-11T13:46:41.885313Z",
     "iopub.status.busy": "2024-01-11T13:46:41.885017Z",
     "iopub.status.idle": "2024-01-11T13:46:41.894659Z",
     "shell.execute_reply": "2024-01-11T13:46:41.893637Z",
     "shell.execute_reply.started": "2024-01-11T13:46:41.885288Z"
    }
   },
   "outputs": [],
   "source": [
    "for param in model.text_encoder.parameters():\n",
    "    param.requires_grad = False\n",
    "    \n",
    "for param in model.image_encoder.parameters():\n",
    "    param.requires_grad = False \n",
    "    "
   ]
  },
  {
   "cell_type": "code",
   "execution_count": null,
   "id": "77bdbf6e",
   "metadata": {
    "execution": {
     "iopub.execute_input": "2024-01-11T13:46:41.896267Z",
     "iopub.status.busy": "2024-01-11T13:46:41.895937Z",
     "iopub.status.idle": "2024-01-11T13:46:41.910475Z",
     "shell.execute_reply": "2024-01-11T13:46:41.909598Z",
     "shell.execute_reply.started": "2024-01-11T13:46:41.896240Z"
    }
   },
   "outputs": [],
   "source": [
    "optimizer = torch.optim.Adam(model.parameters(), lr = LR_FC)"
   ]
  },
  {
   "cell_type": "code",
   "execution_count": null,
   "id": "88352fe1",
   "metadata": {
    "execution": {
     "iopub.execute_input": "2024-01-11T13:46:41.913549Z",
     "iopub.status.busy": "2024-01-11T13:46:41.913203Z",
     "iopub.status.idle": "2024-01-11T13:49:29.094014Z",
     "shell.execute_reply": "2024-01-11T13:49:29.093043Z",
     "shell.execute_reply.started": "2024-01-11T13:46:41.913516Z"
    }
   },
   "outputs": [],
   "source": [
    "best_loss = 1e9\n",
    "\n",
    "\n",
    "for epoch in range(EPOCHS_FC):\n",
    "\n",
    "    train_loss = 0.0    \n",
    "    model.train()\n",
    "    for useless_id, ((images_batch, texts_batch), labels_batch) in tqdm(enumerate(train_dataloader)):\n",
    "        optimizer.zero_grad()\n",
    "        \n",
    "        labels_batch = labels_batch.type(torch.LongTensor)\n",
    "        labels_batch = labels_batch.to('cuda')\n",
    "        \n",
    "        labels_predictions = model(images_batch, texts_batch)\n",
    "        \n",
    "        loss = criterion(labels_predictions, labels_batch)\n",
    "        loss.backward()\n",
    "        \n",
    "        optimizer.step()\n",
    "        \n",
    "        train_loss = train_loss + loss.item()\n",
    "    \n",
    "    # Validation loop\n",
    "    validation_loss = 0.0\n",
    "    model.eval()\n",
    "    correct = 0\n",
    "    total = 0\n",
    "    \n",
    "    for useless_id, ((images_batch, texts_batch), labels_batch) in tqdm(enumerate(valid_dataloader)):\n",
    "        labels_batch = labels_batch.to('cuda')\n",
    "        \n",
    "        labels_predictions = model(images_batch, texts_batch)\n",
    "        \n",
    "        loss = criterion(labels_predictions, labels_batch)\n",
    "       \n",
    "        \n",
    "        validation_loss = validation_loss + loss.item()\n",
    "        \n",
    "        \n",
    "        _, predicted = torch.max(labels_predictions, 1)\n",
    "        total += labels_batch.size(0)\n",
    "        correct += (predicted == labels_batch).sum().item()\n",
    "        \n",
    "\n",
    "    train_loss /= len(train_dataloader.dataset)\n",
    "    validation_loss /= len(train_dataloader.dataset)\n",
    "    accuracy = correct / total\n",
    "    print(f'Epoch: {epoch} Train Loss: {train_loss} Validation Loss: {validation_loss} Validation Accuracy: {accuracy * 100:.2f}%')\n",
    "        \n",
    "    # Save checkpoint if needed\n",
    "    # checkpoint = {'checkpoint': model.state_dict()}\n",
    "    # torch.save(checkpoint, os.path.join(PATH_SAVE_MODEL, f'fc_checkpoint_{epoch}.pt'))\n",
    "    print(f'Checkpoint reached! Validation loss modified from {best_loss} to {validation_loss}')\n",
    "    best_loss = validation_loss\n",
    "    torch.cuda.empty_cache()"
   ]
  },
  {
   "cell_type": "code",
   "execution_count": null,
   "id": "9edda40e",
   "metadata": {
    "execution": {
     "iopub.execute_input": "2024-01-11T13:49:29.095965Z",
     "iopub.status.busy": "2024-01-11T13:49:29.095496Z",
     "iopub.status.idle": "2024-01-11T13:49:30.744486Z",
     "shell.execute_reply": "2024-01-11T13:49:30.743457Z",
     "shell.execute_reply.started": "2024-01-11T13:49:29.095928Z"
    }
   },
   "outputs": [],
   "source": [
    "checkpoint = {'checkpoint': model.state_dict()}\n",
    "torch.save(checkpoint, os.path.join(PATH_SAVE_MODEL, f'checkpoint.pt'))"
   ]
  },
  {
   "cell_type": "code",
   "execution_count": null,
   "id": "f57ef6e1",
   "metadata": {
    "execution": {
     "iopub.execute_input": "2024-01-11T13:49:30.746276Z",
     "iopub.status.busy": "2024-01-11T13:49:30.745945Z",
     "iopub.status.idle": "2024-01-11T13:49:30.750504Z",
     "shell.execute_reply": "2024-01-11T13:49:30.749557Z",
     "shell.execute_reply.started": "2024-01-11T13:49:30.746250Z"
    }
   },
   "outputs": [],
   "source": [
    "#import torch\n",
    "# model.train()\n",
    "# checkpoint = torch.load(os.path.join(PATH_SAVE_MODEL, f'fc_checkpoint_{4}.pt'))\n",
    "\n",
    "# # Apply the state dictionary to the model\n",
    "# model.load_state_dict(checkpoint['checkpoint'])"
   ]
  },
  {
   "cell_type": "code",
   "execution_count": null,
   "id": "86c8acb8",
   "metadata": {
    "execution": {
     "iopub.execute_input": "2024-01-11T13:49:30.752563Z",
     "iopub.status.busy": "2024-01-11T13:49:30.751999Z",
     "iopub.status.idle": "2024-01-11T13:49:38.394360Z",
     "shell.execute_reply": "2024-01-11T13:49:38.393413Z",
     "shell.execute_reply.started": "2024-01-11T13:49:30.752535Z"
    }
   },
   "outputs": [],
   "source": [
    "predictions = []\n",
    "ids = []\n",
    "\n",
    "for useless_id, ((images_batch, texts_batch), labels_batch) in tqdm(enumerate(test_dataloader)):\n",
    "    model.eval()\n",
    "    labels_batch = labels_batch.type(torch.LongTensor)\n",
    "        \n",
    "    # Move data to GPU\n",
    "    #images_batch = images_batch.to('cuda')\n",
    "    #texts_batch = texts_batch.to(device)\n",
    "    labels_batch = labels_batch.to('cuda')\n",
    "\n",
    "    labels_predictions = model(images_batch, texts_batch)\n",
    "\n",
    "\n",
    "    _, predicted = torch.max(labels_predictions, 1)\n",
    "\n",
    "    predictions.append(predicted.item())\n",
    "    ids.append(test_data.ids[useless_id])"
   ]
  },
  {
   "cell_type": "code",
   "execution_count": null,
   "id": "9e83974e",
   "metadata": {
    "execution": {
     "iopub.execute_input": "2024-01-11T13:49:38.396061Z",
     "iopub.status.busy": "2024-01-11T13:49:38.395732Z",
     "iopub.status.idle": "2024-01-11T13:49:38.406695Z",
     "shell.execute_reply": "2024-01-11T13:49:38.405893Z",
     "shell.execute_reply.started": "2024-01-11T13:49:38.396035Z"
    }
   },
   "outputs": [],
   "source": [
    "with open(os.path.join(PATH_SAVE_SUBMISSION, \"submission.txt\"),\"w\") as fout:\n",
    "    print(\"[\\n\",end='',file=fout)\n",
    "    \n",
    "    idx = 0\n",
    "    for (ID,pred) in zip(ids,predictions):\n",
    "        idx += 1\n",
    "        predName = None\n",
    "        if pred==0:\n",
    "            predName = 'non_propagandistic'\n",
    "        else:\n",
    "            predName = 'propagandistic'\n",
    "            \n",
    "        ID = \"\\\"\" + ID + \"\\\"\"\n",
    "        predName = \"\\\"\" + predName + \"\\\"\"\n",
    "\n",
    "        print(\"{\\n\\\"id\\\":\",end='',file=fout)\n",
    "        print(f\" {ID},\\n\",end='',file=fout)\n",
    "        print(\"\\\"label\\\":\",end='',file=fout)\n",
    "        print(f\" {predName}\\n\",end='',file=fout)\n",
    "        \n",
    "        \n",
    "        if idx < len(predictions):\n",
    "            print(\"},\",file=fout)\n",
    "        else:\n",
    "            print(\"}\",file=fout)\n",
    "    print(']',file=fout)"
   ]
  },
  {
   "cell_type": "code",
   "execution_count": null,
   "id": "ba066b80",
   "metadata": {},
   "outputs": [],
   "source": []
  },
  {
   "cell_type": "code",
   "execution_count": null,
   "id": "e9125ddf",
   "metadata": {},
   "outputs": [],
   "source": []
  }
 ],
 "metadata": {
  "kaggle": {
   "accelerator": "gpu",
   "dataSources": [
    {
     "datasetId": 4291150,
     "sourceId": 7383307,
     "sourceType": "datasetVersion"
    }
   ],
   "dockerImageVersionId": 30636,
   "isGpuEnabled": true,
   "isInternetEnabled": true,
   "language": "python",
   "sourceType": "notebook"
  },
  "kernelspec": {
   "display_name": "Python 3 (ipykernel)",
   "language": "python",
   "name": "python3"
  },
  "language_info": {
   "codemirror_mode": {
    "name": "ipython",
    "version": 3
   },
   "file_extension": ".py",
   "mimetype": "text/x-python",
   "name": "python",
   "nbconvert_exporter": "python",
   "pygments_lexer": "ipython3",
   "version": "3.10.11"
  }
 },
 "nbformat": 4,
 "nbformat_minor": 5
}
