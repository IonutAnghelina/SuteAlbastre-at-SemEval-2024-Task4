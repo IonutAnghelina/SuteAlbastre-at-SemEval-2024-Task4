{
 "cells": [
  {
   "cell_type": "code",
   "execution_count": 21,
   "metadata": {
    "execution": {
     "iopub.execute_input": "2024-01-11T22:38:14.433840Z",
     "iopub.status.busy": "2024-01-11T22:38:14.433475Z",
     "iopub.status.idle": "2024-01-11T22:38:14.441247Z",
     "shell.execute_reply": "2024-01-11T22:38:14.440260Z",
     "shell.execute_reply.started": "2024-01-11T22:38:14.433811Z"
    }
   },
   "outputs": [],
   "source": [
    "import torch.nn as nn\n",
    "import torch.nn.functional as F\n",
    "from torch.utils.data import DataLoader, Dataset\n",
    "import PIL\n",
    "import torchvision\n",
    "import numpy\n",
    "import pandas\n",
    "import torch \n",
    "import torch.optim as optim\n",
    "import gc\n",
    "from torch.optim.lr_scheduler import StepLR\n",
    "import cv2\n",
    "import os\n",
    "import json\n",
    "import numpy as np\n",
    "from transformers import BertModel, BertTokenizer\n",
    "import torch\n",
    "import matplotlib.pyplot as plt\n",
    "from transformers import AutoTokenizer, AutoModel\n",
    "from transformers import T5EncoderModel\n",
    "from transformers import GPT2Tokenizer, GPT2Model\n",
    "from transformers import ViTImageProcessor, ViTModel\n",
    "from PIL import Image\n",
    "import requests\n",
    "from tqdm import tqdm\n",
    "import re \n",
    "import string "
   ]
  },
  {
   "cell_type": "code",
   "execution_count": 22,
   "metadata": {
    "execution": {
     "iopub.execute_input": "2024-01-11T22:38:14.455417Z",
     "iopub.status.busy": "2024-01-11T22:38:14.454814Z",
     "iopub.status.idle": "2024-01-11T22:38:14.462365Z",
     "shell.execute_reply": "2024-01-11T22:38:14.461509Z",
     "shell.execute_reply.started": "2024-01-11T22:38:14.455391Z"
    }
   },
   "outputs": [],
   "source": [
    "PATH_DATASETS = \"../datasets\"\n",
    "PATH_JSON_TRAIN = os.path.join(PATH_DATASETS, \"data/subtask2a/train.json\") \n",
    "PATH_JSON_VAL = os.path.join(PATH_DATASETS, \"data/subtask2a/validation.json\") \n",
    "PATH_JSON_DEV = os.path.join(PATH_DATASETS, \"dev_gold_labels/dev_subtask2a_en.json\") \n",
    "PATH_JSON_TEST = os.path.join(PATH_DATASETS, \"test_data/bulgarian/bg_subtask2a_test_unlabeled.json\") \n",
    "\n",
    "\n",
    "PATH_IMG_TRAIN = os.path.join(PATH_DATASETS, \"train_images\") \n",
    "PATH_IMG_VAL = os.path.join(PATH_DATASETS, \"validation_images\") \n",
    "PATH_IMG_DEV = os.path.join(PATH_DATASETS, \"dev_images\") \n",
    "PATH_IMG_TEST = os.path.join(PATH_DATASETS, \"test_images/subtask1_2a/bulgarian\") \n",
    "\n",
    "PATH_SAVE_MODEL = \"subtask2a_models\"\n",
    "PATH_SAVE_SUBMISSION = \"subtask2a_submissions\"\n",
    "\n",
    "os.makedirs(PATH_SAVE_MODEL, exist_ok=True)\n",
    "os.makedirs(PATH_SAVE_SUBMISSION, exist_ok=True)\n",
    "\n",
    "BERT_MODEL = 'usmiva/bert-web-bg'\n",
    "\n",
    "BATCH_SIZE = 8\n",
    "\n",
    "EPOCHS_FULL = 3\n",
    "LR_FULL = 1e-5\n",
    "\n",
    "EPOCHS_FC = 0\n",
    "LR_FC = 3e-6\n",
    "\n",
    "TRAIN_ALL = True"
   ]
  },
  {
   "cell_type": "code",
   "execution_count": 23,
   "metadata": {
    "execution": {
     "iopub.execute_input": "2024-01-11T22:38:14.478247Z",
     "iopub.status.busy": "2024-01-11T22:38:14.477990Z",
     "iopub.status.idle": "2024-01-11T22:38:14.532899Z",
     "shell.execute_reply": "2024-01-11T22:38:14.532040Z",
     "shell.execute_reply.started": "2024-01-11T22:38:14.478225Z"
    },
    "scrolled": true
   },
   "outputs": [
    {
     "name": "stdout",
     "output_type": "stream",
     "text": [
      "{'id': '63292', 'text': \"This is why we're free\\\\n\\\\nThis is why we're safe\\\\n\", 'image': 'prop_meme_556.png', 'labels': ['Causal Oversimplification', 'Transfer', 'Flag-waving'], 'link': 'https://www.facebook.com/SilentmajorityDJT/photos/2119966118152814/'}\n"
     ]
    }
   ],
   "source": [
    "data = json.load(open(PATH_JSON_TRAIN,\"r\",encoding='utf-8'))\n",
    "\n",
    "print(data[0])"
   ]
  },
  {
   "cell_type": "code",
   "execution_count": 24,
   "metadata": {
    "execution": {
     "iopub.execute_input": "2024-01-11T22:38:14.535402Z",
     "iopub.status.busy": "2024-01-11T22:38:14.534606Z",
     "iopub.status.idle": "2024-01-11T22:38:14.539412Z",
     "shell.execute_reply": "2024-01-11T22:38:14.538496Z",
     "shell.execute_reply.started": "2024-01-11T22:38:14.535367Z"
    }
   },
   "outputs": [],
   "source": [
    "def preprocess(text):\n",
    "    return text"
   ]
  },
  {
   "cell_type": "code",
   "execution_count": 25,
   "metadata": {
    "execution": {
     "iopub.execute_input": "2024-01-11T22:38:14.540859Z",
     "iopub.status.busy": "2024-01-11T22:38:14.540569Z",
     "iopub.status.idle": "2024-01-11T22:38:14.548395Z",
     "shell.execute_reply": "2024-01-11T22:38:14.547619Z",
     "shell.execute_reply.started": "2024-01-11T22:38:14.540836Z"
    }
   },
   "outputs": [],
   "source": [
    "transform = torchvision.transforms.Compose([\n",
    "                #torchvision.transforms.ToPILImage(),\n",
    "                #torchvision.transforms.Resize((224,224),interpolation = PIL.Image.BICUBIC),\n",
    "                #torchvision.transforms.ToTensor(),\n",
    "                #torchvision.transforms.Normalize(mean=[0.5, 0.5, 0.5], std=[0.5, 0.5, 0.5])\n",
    "            ])"
   ]
  },
  {
   "cell_type": "code",
   "execution_count": 26,
   "metadata": {
    "execution": {
     "iopub.execute_input": "2024-01-11T22:38:14.550131Z",
     "iopub.status.busy": "2024-01-11T22:38:14.549836Z",
     "iopub.status.idle": "2024-01-11T22:38:15.596290Z",
     "shell.execute_reply": "2024-01-11T22:38:15.595378Z",
     "shell.execute_reply.started": "2024-01-11T22:38:14.550107Z"
    }
   },
   "outputs": [],
   "source": [
    "processor = ViTImageProcessor.from_pretrained('google/vit-base-patch16-224-in21k',do_resize = True,do_rescale = True,do_normalize = True,image_mean = [0.5,0.5,0.5],image_std = [0.5,0.5,0.5])\n",
    "\n",
    "tokenizer = AutoTokenizer.from_pretrained(BERT_MODEL)\n",
    "text_model = AutoModel.from_pretrained(BERT_MODEL)"
   ]
  },
  {
   "cell_type": "code",
   "execution_count": 27,
   "metadata": {
    "execution": {
     "iopub.execute_input": "2024-01-11T22:38:15.598685Z",
     "iopub.status.busy": "2024-01-11T22:38:15.598407Z",
     "iopub.status.idle": "2024-01-11T22:38:15.611407Z",
     "shell.execute_reply": "2024-01-11T22:38:15.610650Z",
     "shell.execute_reply.started": "2024-01-11T22:38:15.598660Z"
    }
   },
   "outputs": [],
   "source": [
    "class MyDataset(Dataset):\n",
    "    \n",
    "    def __init__(self, paths_json_img, bin_classes):\n",
    "        self.filenames = []\n",
    "        self.texts = []\n",
    "        self.images = []\n",
    "        self.ids = []\n",
    "        self.labels = []\n",
    "        \n",
    "        for path_json, path_img in paths_json_img:\n",
    "            print(path_json)\n",
    "            data = json.load(open(path_json,\"r\",encoding='utf-8'))\n",
    "\n",
    "            for x in tqdm(data):\n",
    "                currentPath = os.path.join(path_img,x['image'])\n",
    "\n",
    "                self.ids.append(x['id'])\n",
    "\n",
    "                if 'labels' in x:\n",
    "                    curr_labels = []\n",
    "                    for bin_class in bin_classes:\n",
    "                        if bin_class in x['labels']:\n",
    "                            curr_labels.append(1)\n",
    "                        else:\n",
    "                            curr_labels.append(0)\n",
    "                    self.labels.append(curr_labels)\n",
    "                else:\n",
    "                    self.labels.append([])\n",
    "\n",
    "                text = preprocess(x['text'])\n",
    "                if text is None:\n",
    "                    text = \"\"\n",
    "                self.texts.append(tokenizer(text,return_tensors='pt',padding='max_length',max_length=128,truncation=True))\n",
    "                self.filenames.append(x['image'])\n",
    "\n",
    "                currentImage = cv2.imread(currentPath)\n",
    "                currentImage = torch.tensor(transform(currentImage)).unsqueeze(0)\n",
    "                features = processor(currentImage)\n",
    "                self.images.append(features)\n",
    "\n",
    "    def __len__(self):\n",
    "        return len(self.images)\n",
    "    \n",
    "    def __getitem__(self,idx):\n",
    "        text_tensors = {}\n",
    "        for key, value in self.texts[idx].items():\n",
    "            text_tensors[key] = value.cuda() if isinstance(value, torch.Tensor) else value\n",
    "        \n",
    "        \n",
    "        image_tensors = {}\n",
    "        for key, value in self.images[idx].items():\n",
    "            image_tensors[key] = value.cuda() if isinstance(value, torch.Tensor) else value\n",
    "        \n",
    "        return ((image_tensors,text_tensors),torch.tensor(self.labels[idx]))"
   ]
  },
  {
   "cell_type": "code",
   "execution_count": 28,
   "metadata": {
    "execution": {
     "iopub.execute_input": "2024-01-11T22:38:15.612686Z",
     "iopub.status.busy": "2024-01-11T22:38:15.612443Z",
     "iopub.status.idle": "2024-01-11T22:38:15.635657Z",
     "shell.execute_reply": "2024-01-11T22:38:15.634902Z",
     "shell.execute_reply.started": "2024-01-11T22:38:15.612664Z"
    }
   },
   "outputs": [],
   "source": [
    "#torchvision.models.efficientnet_b0(pretrained=True)\n",
    "class Model(nn.Module):\n",
    "    def __init__(self):\n",
    "        super(Model, self).__init__()\n",
    "        # Define text and image encoders\n",
    "        self.text_encoder = AutoModel.from_pretrained(BERT_MODEL)\n",
    "        \n",
    "        self.image_encoder = ViTModel.from_pretrained('google/vit-base-patch16-224-in21k')\n",
    "        \n",
    "        self.fc = nn.Linear(249600, 22)  # Adjust num_classes accordingly\n",
    "        self.fc2 = nn.Linear(128,2)\n",
    "    def forward(self,  images,text_input):\n",
    "        # Process text input\n",
    "        \n",
    "        text_outputs = []\n",
    "\n",
    "        for i in range(text_input['input_ids'].shape[0]):\n",
    "            x = dict()\n",
    "            x['input_ids'] = text_input['input_ids'][i]\n",
    "            x['token_type_ids'] = text_input['token_type_ids'][i]\n",
    "            x['attention_mask'] = text_input['attention_mask'][i]\n",
    "            text_outputs.append(self.text_encoder(**x).last_hidden_state)\n",
    "            \n",
    "            \n",
    "        text_outputs = torch.stack(text_outputs)\n",
    "        image_outputs = []\n",
    "        \n",
    "        for i in range(images['pixel_values'][0].shape[0]):\n",
    "            x = dict()\n",
    "            x['pixel_values'] = images['pixel_values'][0][i].unsqueeze(0).cuda()\n",
    "          \n",
    "            image_outputs.append(self.image_encoder(**x).last_hidden_state)\n",
    "        \n",
    "        image_outputs = torch.stack(image_outputs)\n",
    "\n",
    "        # Flatten and concatenate the outputs\n",
    "        text_outputs = text_outputs.view(text_outputs.size(0), -1)\n",
    "        \n",
    "        image_outputs = image_outputs.view(image_outputs.size(0), -1)\n",
    "        combined = torch.cat((text_outputs, image_outputs), dim=1)\n",
    "        \n",
    "        # Pass through fully connected layer\n",
    "        output = nn.Sigmoid()(self.fc(nn.Tanh()(combined)))\n",
    "        return output"
   ]
  },
  {
   "cell_type": "code",
   "execution_count": 29,
   "metadata": {
    "execution": {
     "iopub.execute_input": "2024-01-11T22:38:15.637883Z",
     "iopub.status.busy": "2024-01-11T22:38:15.637627Z",
     "iopub.status.idle": "2024-01-11T22:38:15.689249Z",
     "shell.execute_reply": "2024-01-11T22:38:15.688410Z",
     "shell.execute_reply.started": "2024-01-11T22:38:15.637860Z"
    }
   },
   "outputs": [
    {
     "name": "stdout",
     "output_type": "stream",
     "text": [
      "22\n",
      "['Causal Oversimplification', 'Transfer', 'Flag-waving', 'Black-and-white Fallacy/Dictatorship', 'Smears', 'Loaded Language', 'Glittering generalities (Virtue)', 'Thought-terminating cliché', 'Whataboutism', 'Slogans', 'Doubt', 'Name calling/Labeling', 'Repetition', 'Appeal to authority', 'Appeal to (Strong) Emotions', 'Reductio ad hitlerum', 'Appeal to fear/prejudice', 'Exaggeration/Minimisation', \"Misrepresentation of Someone's Position (Straw Man)\", 'Obfuscation, Intentional vagueness, Confusion', 'Bandwagon', 'Presenting Irrelevant Data (Red Herring)']\n"
     ]
    }
   ],
   "source": [
    "data = json.load(open(PATH_JSON_TRAIN,\"r\",encoding='utf-8'))\n",
    "\n",
    "bin_classes = []\n",
    "\n",
    "for x in data:\n",
    "    for label in x['labels']:\n",
    "        if label not in bin_classes:\n",
    "            bin_classes.append(label)\n",
    "\n",
    "print(len(bin_classes))\n",
    "print(bin_classes)"
   ]
  },
  {
   "cell_type": "code",
   "execution_count": 30,
   "metadata": {
    "execution": {
     "iopub.execute_input": "2024-01-11T22:38:15.690761Z",
     "iopub.status.busy": "2024-01-11T22:38:15.690409Z",
     "iopub.status.idle": "2024-01-11T22:43:10.720823Z",
     "shell.execute_reply": "2024-01-11T22:43:10.720062Z",
     "shell.execute_reply.started": "2024-01-11T22:38:15.690728Z"
    }
   },
   "outputs": [
    {
     "name": "stdout",
     "output_type": "stream",
     "text": [
      "../datasets\\data/subtask2a/train.json\n"
     ]
    },
    {
     "name": "stderr",
     "output_type": "stream",
     "text": [
      "100%|██████████| 7000/7000 [02:09<00:00, 54.15it/s]\n"
     ]
    },
    {
     "name": "stdout",
     "output_type": "stream",
     "text": [
      "../datasets\\data/subtask2a/validation.json\n"
     ]
    },
    {
     "name": "stderr",
     "output_type": "stream",
     "text": [
      "100%|██████████| 500/500 [00:10<00:00, 46.14it/s]\n"
     ]
    },
    {
     "name": "stdout",
     "output_type": "stream",
     "text": [
      "../datasets\\dev_gold_labels/dev_subtask2a_en.json\n"
     ]
    },
    {
     "name": "stderr",
     "output_type": "stream",
     "text": [
      "100%|██████████| 1000/1000 [00:29<00:00, 33.42it/s]\n"
     ]
    },
    {
     "name": "stdout",
     "output_type": "stream",
     "text": [
      "../datasets\\data/subtask2a/validation.json\n"
     ]
    },
    {
     "name": "stderr",
     "output_type": "stream",
     "text": [
      "100%|██████████| 500/500 [00:13<00:00, 36.65it/s]\n"
     ]
    },
    {
     "name": "stdout",
     "output_type": "stream",
     "text": [
      "../datasets\\test_data/bulgarian/bg_subtask2a_test_unlabeled.json\n"
     ]
    },
    {
     "name": "stderr",
     "output_type": "stream",
     "text": [
      "100%|██████████| 436/436 [00:11<00:00, 36.93it/s]\n"
     ]
    }
   ],
   "source": [
    "if TRAIN_ALL:\n",
    "    train_data = MyDataset([(PATH_JSON_TRAIN, PATH_IMG_TRAIN), (PATH_JSON_VAL, PATH_IMG_VAL), (PATH_JSON_DEV, PATH_IMG_DEV)], bin_classes)\n",
    "    # train_data = MyDataset([(PATH_JSON_VAL, PATH_IMG_VAL)], bin_classes)\n",
    "else:\n",
    "    train_data = MyDataset([(PATH_JSON_TRAIN, PATH_IMG_TRAIN)], bin_classes)\n",
    "valid_data = MyDataset([(PATH_JSON_VAL, PATH_IMG_VAL)], bin_classes)\n",
    "test_data = MyDataset([(PATH_JSON_TEST, PATH_IMG_TEST)], bin_classes)\n",
    "\n",
    "train_dataloader = DataLoader(dataset = train_data, batch_size = BATCH_SIZE, shuffle = True)\n",
    "valid_dataloader = DataLoader(dataset = valid_data, batch_size = BATCH_SIZE, shuffle = False)\n",
    "test_dataloader = DataLoader(dataset = test_data, batch_size = 1, shuffle = False)"
   ]
  },
  {
   "cell_type": "code",
   "execution_count": 31,
   "metadata": {
    "execution": {
     "iopub.execute_input": "2024-01-11T22:43:10.723055Z",
     "iopub.status.busy": "2024-01-11T22:43:10.722806Z",
     "iopub.status.idle": "2024-01-11T22:43:10.727160Z",
     "shell.execute_reply": "2024-01-11T22:43:10.726242Z",
     "shell.execute_reply.started": "2024-01-11T22:43:10.723033Z"
    }
   },
   "outputs": [],
   "source": [
    "# m = nn.Sigmoid()\n",
    "# loss = nn.BCELoss()\n",
    "# input = torch.randn(3, requires_grad=True)\n",
    "# target = torch.empty(3).random_(2)\n",
    "\n",
    "# print(input)\n",
    "# print(target)\n",
    "# output = loss(m(input), target)"
   ]
  },
  {
   "cell_type": "code",
   "execution_count": 32,
   "metadata": {
    "execution": {
     "iopub.execute_input": "2024-01-11T22:43:10.728861Z",
     "iopub.status.busy": "2024-01-11T22:43:10.728426Z",
     "iopub.status.idle": "2024-01-11T23:07:05.155687Z",
     "shell.execute_reply": "2024-01-11T23:07:05.154609Z",
     "shell.execute_reply.started": "2024-01-11T22:43:10.728836Z"
    }
   },
   "outputs": [
    {
     "name": "stdout",
     "output_type": "stream",
     "text": [
      "1\n",
      "8500\n",
      "torch.Size([1, 128])\n"
     ]
    },
    {
     "name": "stderr",
     "output_type": "stream",
     "text": [
      "c:\\Users\\alex1\\anaconda3\\envs\\ml\\Lib\\site-packages\\torch\\_utils.py:831: UserWarning: TypedStorage is deprecated. It will be removed in the future and UntypedStorage will be the only storage class. This should only matter to you if you are using storages directly.  To access UntypedStorage directly, use tensor.untyped_storage() instead of tensor.storage()\n",
      "  return self.fget.__get__(instance, owner)()\n",
      "1063it [05:55,  2.99it/s]\n",
      "63it [00:11,  5.72it/s]\n"
     ]
    },
    {
     "name": "stdout",
     "output_type": "stream",
     "text": [
      "Epoch: 0 Train Loss: 0.032200079805710734 Validation Loss: 0.0015899663953220142 Validation Accuracy: 91.34%\n",
      "Checkpoint reached! Validation loss modified from 1000000000.0 to 0.0015899663953220142\n"
     ]
    },
    {
     "name": "stderr",
     "output_type": "stream",
     "text": [
      "1063it [06:01,  2.94it/s]\n",
      "63it [00:10,  6.05it/s]\n"
     ]
    },
    {
     "name": "stdout",
     "output_type": "stream",
     "text": [
      "Epoch: 1 Train Loss: 0.025776574396911788 Validation Loss: 0.0011927990326110055 Validation Accuracy: 93.25%\n",
      "Checkpoint reached! Validation loss modified from 0.0015899663953220142 to 0.0011927990326110055\n"
     ]
    },
    {
     "name": "stderr",
     "output_type": "stream",
     "text": [
      "1063it [05:33,  3.19it/s]\n",
      "63it [00:06,  9.20it/s]\n"
     ]
    },
    {
     "name": "stdout",
     "output_type": "stream",
     "text": [
      "Epoch: 2 Train Loss: 0.019793729868005303 Validation Loss: 0.0008045081434880986 Validation Accuracy: 96.22%\n",
      "Checkpoint reached! Validation loss modified from 0.0011927990326110055 to 0.0008045081434880986\n",
      "Checkpoint reached! Validation loss modified from 1000000000.0 to 0.0008045081434880986\n"
     ]
    }
   ],
   "source": [
    "print(len(train_data.images[0]['pixel_values']))\n",
    "print(len(train_data))\n",
    "print(train_data.texts[0]['input_ids'].shape)\n",
    "\n",
    "model = Model()\n",
    "model.cuda()\n",
    "model.train()\n",
    "\n",
    "for param in model.text_encoder.parameters():\n",
    "    param.requires_grad = False\n",
    "\n",
    "criterion = torch.nn.BCELoss()\n",
    "optimizer = torch.optim.Adam(model.parameters(), lr = LR_FULL)\n",
    "\n",
    "best_loss = 1e9\n",
    "\n",
    "for epoch in range(EPOCHS_FULL):\n",
    "\n",
    "    train_loss = 0.0    \n",
    "    model.train()\n",
    "    for useless_id, ((images_batch, texts_batch), labels_batch) in tqdm(enumerate(train_dataloader)):\n",
    "        optimizer.zero_grad()\n",
    "\n",
    "        labels_batch = labels_batch.to(torch.float32)\n",
    "        labels_batch = labels_batch.to('cuda')\n",
    "\n",
    "        labels_predictions = model(images_batch, texts_batch)\n",
    "\n",
    "#         print(labels_predictions.shape)\n",
    "#         print(labels_batch.shape)\n",
    "        \n",
    "#         print(labels_predictions.type())\n",
    "#         print(labels_batch.type())\n",
    "        \n",
    "#         print(labels_predictions)\n",
    "#         print(labels_batch)\n",
    "        \n",
    "        loss = criterion(labels_predictions, labels_batch)\n",
    "        loss.backward()\n",
    "\n",
    "        optimizer.step()\n",
    "\n",
    "        train_loss = train_loss + loss.item()\n",
    "\n",
    "    # Validation loop\n",
    "    validation_loss = 0.0\n",
    "    model.eval()\n",
    "    correct = 0\n",
    "    total = 0\n",
    "\n",
    "    for useless_id, ((images_batch, texts_batch), labels_batch) in tqdm(enumerate(valid_dataloader)):\n",
    "        labels_batch = labels_batch.to(torch.float32)\n",
    "        labels_batch = labels_batch.to('cuda')\n",
    "        labels_predictions = model(images_batch, texts_batch)\n",
    "\n",
    "        loss = criterion(labels_predictions, labels_batch)\n",
    "\n",
    "\n",
    "        validation_loss = validation_loss + loss.item()\n",
    "\n",
    "\n",
    "        predicted = (labels_predictions > 0.5)\n",
    "        \n",
    "        total += labels_batch.size(0)\n",
    "        correct += (predicted == labels_batch).sum().item()\n",
    "\n",
    "\n",
    "    train_loss /= len(train_dataloader.dataset)\n",
    "    validation_loss /= len(train_dataloader.dataset)\n",
    "    accuracy = (correct / total) / len(bin_classes)\n",
    "    print(f'Epoch: {epoch} Train Loss: {train_loss} Validation Loss: {validation_loss} Validation Accuracy: {accuracy * 100:.2f}%')\n",
    "\n",
    "    # Save checkpoint if needed\n",
    "    # checkpoint = {'checkpoint': model.state_dict()}\n",
    "    # torch.save(checkpoint, os.path.join(PATH_SAVE_MODEL, f'checkpoint_{epoch}.pt'))\n",
    "    print(f'Checkpoint reached! Validation loss modified from {best_loss} to {validation_loss}')\n",
    "    best_loss = validation_loss\n",
    "    torch.cuda.empty_cache()\n",
    "\n",
    "    \n",
    "    \n",
    "    \n",
    "for param in model.text_encoder.parameters():\n",
    "    param.requires_grad = False\n",
    "\n",
    "for param in model.image_encoder.parameters():\n",
    "    param.requires_grad = False \n",
    "\n",
    "optimizer = torch.optim.Adam(model.parameters(), lr = LR_FC)\n",
    "best_loss = 1e9\n",
    "\n",
    "\n",
    "for epoch in range(EPOCHS_FC):\n",
    "\n",
    "    train_loss = 0.0    \n",
    "    model.train()\n",
    "    for useless_id, ((images_batch, texts_batch), labels_batch) in tqdm(enumerate(train_dataloader)):\n",
    "        optimizer.zero_grad()\n",
    "\n",
    "        labels_batch = labels_batch.to(torch.float32)\n",
    "        labels_batch = labels_batch.to('cuda')\n",
    "\n",
    "        labels_predictions = model(images_batch, texts_batch)\n",
    "\n",
    "        loss = criterion(labels_predictions, labels_batch)\n",
    "        loss.backward()\n",
    "\n",
    "        optimizer.step()\n",
    "\n",
    "        train_loss = train_loss + loss.item()\n",
    "\n",
    "    # Validation loop\n",
    "    validation_loss = 0.0\n",
    "    model.eval()\n",
    "    correct = 0\n",
    "    total = 0\n",
    "\n",
    "    for useless_id, ((images_batch, texts_batch), labels_batch) in tqdm(enumerate(valid_dataloader)):\n",
    "        labels_batch = labels_batch.to(torch.float32)\n",
    "        labels_batch = labels_batch.to('cuda')\n",
    "\n",
    "        labels_predictions = model(images_batch, texts_batch)\n",
    "\n",
    "        loss = criterion(labels_predictions, labels_batch)\n",
    "\n",
    "\n",
    "        validation_loss = validation_loss + loss.item()\n",
    "\n",
    "\n",
    "        predicted = (labels_predictions > 0.5)\n",
    "        total += labels_batch.size(0)\n",
    "        correct += (predicted == labels_batch).sum().item()\n",
    "\n",
    "\n",
    "    train_loss /= len(train_dataloader.dataset)\n",
    "    validation_loss /= len(train_dataloader.dataset)\n",
    "    accuracy = (correct / total) / len(bin_classes)\n",
    "    print(f'Epoch: {epoch} Train Loss: {train_loss} Validation Loss: {validation_loss} Validation Accuracy: {accuracy * 100:.2f}%')\n",
    "\n",
    "\n",
    "\n",
    "\n",
    "\n",
    "# Save checkpoint if needed\n",
    "# checkpoint = {'checkpoint': model.state_dict()}\n",
    "# torch.save(checkpoint, os.path.join(PATH_SAVE_MODEL, f'fc_checkpoint_{epoch}.pt'))\n",
    "print(f'Checkpoint reached! Validation loss modified from {best_loss} to {validation_loss}')\n",
    "best_loss = validation_loss\n",
    "torch.cuda.empty_cache()\n",
    "\n",
    "checkpoint = {'checkpoint': model.state_dict()}\n",
    "torch.save(checkpoint, os.path.join(PATH_SAVE_MODEL, f'checkpoint.pt'))\n",
    "\n",
    "#import torch\n",
    "# model.train()\n",
    "# checkpoint = torch.load(os.path.join(PATH_SAVE_MODEL, f'fc_checkpoint_{4}.pt'))\n",
    "\n",
    "# # Apply the state dictionary to the model\n",
    "# model.load_state_dict(checkpoint['checkpoint'])\n",
    "                    \n"
   ]
  },
  {
   "cell_type": "code",
   "execution_count": 33,
   "metadata": {
    "execution": {
     "iopub.execute_input": "2024-01-11T23:30:20.179266Z",
     "iopub.status.busy": "2024-01-11T23:30:20.178234Z",
     "iopub.status.idle": "2024-01-11T23:30:45.325929Z",
     "shell.execute_reply": "2024-01-11T23:30:45.325049Z",
     "shell.execute_reply.started": "2024-01-11T23:30:20.179224Z"
    }
   },
   "outputs": [
    {
     "name": "stderr",
     "output_type": "stream",
     "text": [
      "436it [00:06, 62.68it/s]\n"
     ]
    }
   ],
   "source": [
    "predictions = {}\n",
    "ids = []\n",
    "\n",
    "for useless_id, ((images_batch, texts_batch), labels_batch) in tqdm(enumerate(test_dataloader)):\n",
    "    model.eval()\n",
    "\n",
    "    labels_predictions = model(images_batch, texts_batch)\n",
    "\n",
    "\n",
    "    predicted = (labels_predictions > 0.25)[0]\n",
    "    \n",
    "    curr_id = test_data.ids[useless_id]\n",
    "    if curr_id not in predictions:\n",
    "        predictions[curr_id] = []\n",
    "        \n",
    "    idx_bin_class = 0\n",
    "    for bin_class in bin_classes:\n",
    "        if predicted[idx_bin_class]:\n",
    "            predictions[curr_id].append(bin_class)\n",
    "        idx_bin_class += 1"
   ]
  },
  {
   "cell_type": "code",
   "execution_count": 34,
   "metadata": {
    "execution": {
     "iopub.execute_input": "2024-01-11T23:30:45.328298Z",
     "iopub.status.busy": "2024-01-11T23:30:45.327925Z",
     "iopub.status.idle": "2024-01-11T23:30:45.345841Z",
     "shell.execute_reply": "2024-01-11T23:30:45.344929Z",
     "shell.execute_reply.started": "2024-01-11T23:30:45.328264Z"
    }
   },
   "outputs": [],
   "source": [
    "output_json = []\n",
    "for k,v in predictions.items():\n",
    "    output_json.append({\"id\" : k, \"labels\" : v})\n",
    "\n",
    "with open(os.path.join(PATH_SAVE_SUBMISSION, \"submission.txt\"),\"w\") as fout:\n",
    "    json.dump(output_json, fout)"
   ]
  },
  {
   "cell_type": "code",
   "execution_count": null,
   "metadata": {},
   "outputs": [],
   "source": []
  },
  {
   "cell_type": "code",
   "execution_count": null,
   "metadata": {},
   "outputs": [],
   "source": []
  }
 ],
 "metadata": {
  "kaggle": {
   "accelerator": "none",
   "dataSources": [
    {
     "datasetId": 4291150,
     "sourceId": 7383307,
     "sourceType": "datasetVersion"
    }
   ],
   "dockerImageVersionId": 30635,
   "isGpuEnabled": false,
   "isInternetEnabled": true,
   "language": "python",
   "sourceType": "notebook"
  },
  "kernelspec": {
   "display_name": "Python 3 (ipykernel)",
   "language": "python",
   "name": "python3"
  },
  "language_info": {
   "codemirror_mode": {
    "name": "ipython",
    "version": 3
   },
   "file_extension": ".py",
   "mimetype": "text/x-python",
   "name": "python",
   "nbconvert_exporter": "python",
   "pygments_lexer": "ipython3",
   "version": "3.10.11"
  }
 },
 "nbformat": 4,
 "nbformat_minor": 4
}
